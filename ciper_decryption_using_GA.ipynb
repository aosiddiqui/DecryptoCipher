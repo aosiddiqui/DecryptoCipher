{
  "cells": [
    {
      "cell_type": "code",
      "execution_count": null,
      "id": "768378c1",
      "metadata": {
        "id": "768378c1"
      },
      "outputs": [],
      "source": [
        "import pandas as pd\n",
        "import numpy as np\n",
        "import matplotlib.pyplot as plt\n",
        "import random\n",
        "import re\n",
        "import string\n",
        "import os\n",
        "import textwrap\n",
        "import requests"
      ]
    },
    {
      "cell_type": "code",
      "source": [
        "from google.colab import drive\n",
        "drive.mount('/content/drive')"
      ],
      "metadata": {
        "colab": {
          "base_uri": "https://localhost:8080/"
        },
        "id": "R-skFuPK_5P_",
        "outputId": "46015398-ccff-47bc-971b-f57bd9c9d7d4"
      },
      "id": "R-skFuPK_5P_",
      "execution_count": null,
      "outputs": [
        {
          "output_type": "stream",
          "name": "stdout",
          "text": [
            "Drive already mounted at /content/drive; to attempt to forcibly remount, call drive.mount(\"/content/drive\", force_remount=True).\n"
          ]
        }
      ]
    },
    {
      "cell_type": "markdown",
      "id": "46d01be0",
      "metadata": {
        "id": "46d01be0"
      },
      "source": [
        "### `Step-1:` Creating Substitution Cipher"
      ]
    },
    {
      "cell_type": "code",
      "execution_count": null,
      "id": "17167028",
      "metadata": {
        "id": "17167028"
      },
      "outputs": [],
      "source": [
        "# one will act as the key, other as the value\n",
        "letters1 = list(string.ascii_lowercase) #key\n",
        "letters2 = list(string.ascii_lowercase) #values"
      ]
    },
    {
      "cell_type": "code",
      "source": [
        "print(letters1)"
      ],
      "metadata": {
        "colab": {
          "base_uri": "https://localhost:8080/"
        },
        "id": "Ko1PwLJsxEwg",
        "outputId": "9823f6fe-348d-4d35-8367-c121e315058f"
      },
      "id": "Ko1PwLJsxEwg",
      "execution_count": null,
      "outputs": [
        {
          "output_type": "stream",
          "name": "stdout",
          "text": [
            "['a', 'b', 'c', 'd', 'e', 'f', 'g', 'h', 'i', 'j', 'k', 'l', 'm', 'n', 'o', 'p', 'q', 'r', 's', 't', 'u', 'v', 'w', 'x', 'y', 'z']\n"
          ]
        }
      ]
    },
    {
      "cell_type": "code",
      "execution_count": null,
      "id": "99556eab",
      "metadata": {
        "id": "99556eab"
      },
      "outputs": [],
      "source": [
        "# initializing an empty dictionary\n",
        "true_mapping = {}"
      ]
    },
    {
      "cell_type": "code",
      "execution_count": null,
      "id": "09954c28",
      "metadata": {
        "id": "09954c28"
      },
      "outputs": [],
      "source": [
        "# shuffle second set of letters\n",
        "random.shuffle(letters2)"
      ]
    },
    {
      "cell_type": "code",
      "execution_count": null,
      "id": "b97cb56f",
      "metadata": {
        "id": "b97cb56f"
      },
      "outputs": [],
      "source": [
        "# populate map\n",
        "for k, v in zip(letters1, letters2):\n",
        "    true_mapping[k] = v"
      ]
    },
    {
      "cell_type": "code",
      "source": [
        "print(true_mapping)"
      ],
      "metadata": {
        "colab": {
          "base_uri": "https://localhost:8080/"
        },
        "id": "VZqN6U9ZxfHP",
        "outputId": "39a31703-a201-44a1-f015-3e5a82778ddc"
      },
      "id": "VZqN6U9ZxfHP",
      "execution_count": null,
      "outputs": [
        {
          "output_type": "stream",
          "name": "stdout",
          "text": [
            "{'a': 'e', 'b': 'g', 'c': 'f', 'd': 'a', 'e': 'y', 'f': 'd', 'g': 't', 'h': 'm', 'i': 's', 'j': 'i', 'k': 'q', 'l': 'u', 'm': 'c', 'n': 'j', 'o': 'k', 'p': 'n', 'q': 'w', 'r': 'v', 's': 'o', 't': 'b', 'u': 'x', 'v': 'p', 'w': 'h', 'x': 'z', 'y': 'l', 'z': 'r'}\n"
          ]
        }
      ]
    },
    {
      "cell_type": "markdown",
      "id": "d08423d0",
      "metadata": {
        "id": "d08423d0"
      },
      "source": [
        "### `Step-2:` Building the Language Model"
      ]
    },
    {
      "cell_type": "code",
      "execution_count": null,
      "id": "5df8c872",
      "metadata": {
        "id": "5df8c872",
        "colab": {
          "base_uri": "https://localhost:8080/"
        },
        "outputId": "751f7d64-1519-4d8e-a834-e04473d14edf"
      },
      "outputs": [
        {
          "output_type": "stream",
          "name": "stdout",
          "text": [
            "Downloading Moby dick...\n"
          ]
        }
      ],
      "source": [
        "# # Downloading the file\n",
        "if not os.path.exists('moby_dick.txt'):\n",
        "    print('Downloading Moby dick...')\n",
        "    r = requests.get('https://lazyprogrammer.me/course_files/moby_dick.txt')\n",
        "    with open('moby_dick.txt','w') as f:\n",
        "        f.write(r.content.decode())"
      ]
    },
    {
      "cell_type": "code",
      "execution_count": null,
      "id": "169c7fb4",
      "metadata": {
        "id": "169c7fb4"
      },
      "outputs": [],
      "source": [
        "# Initialize Markov Matrix to store all the bigram probabilities\n",
        "M = np.ones((26,26))    # Initialized with ones to incorporate add-one smoothing\n",
        "\n",
        "# Also we need a vector to store the unigram probabilities\n",
        "# initial state distribution\n",
        "pi = np.zeros(26)\n",
        "\n",
        "# update_transition: function to update the Markov Matrix\n",
        "# ch1: first char, ch2: second char of the bigram\n",
        "def update_transition(ch1,ch2):\n",
        "    i = ord(ch1) - 97\n",
        "    j = ord(ch2) - 97\n",
        "    M[i,j] += 1 # We'll deal with probabilities later\n",
        "\n",
        "# function to update the initial state distribution\n",
        "def update_pi(ch):\n",
        "    i = ord(ch) - 97\n",
        "    pi[i] += 1\n",
        "\n",
        "# get the log-probability of a token/word\n",
        "def get_word_prob(word):\n",
        "    # Computing unigram log probs\n",
        "    i = ord(word[0]) -97\n",
        "    logp = np.log(pi[i])\n",
        "\n",
        "    # computing bigram log probabities\n",
        "    for ch in word[1:]:\n",
        "        j = ord(ch) -97\n",
        "        logp += np.log(M[i,j]) #update prob\n",
        "        i = j # update j\n",
        "    return logp\n",
        "\n",
        "# get the probability of a sequence of words\n",
        "def get_sequence_prob(words):\n",
        "    # if input is a sentence, split into a list of strings\n",
        "    if type(words) == str:\n",
        "        words = words.split()\n",
        "\n",
        "    logp = 0\n",
        "    for word in words:\n",
        "        logp += get_word_prob(word)\n",
        "    return logp"
      ]
    },
    {
      "cell_type": "markdown",
      "id": "5d921cba",
      "metadata": {
        "id": "5d921cba"
      },
      "source": [
        "### `Step-3:` Training the Language Model"
      ]
    },
    {
      "cell_type": "code",
      "execution_count": null,
      "id": "f176738e",
      "metadata": {
        "id": "f176738e"
      },
      "outputs": [],
      "source": [
        "# Creating a markov model based on an english dataset\n",
        "\n",
        "# DATA PRE-PROCESSING\n",
        "\n",
        "# For replacing non-alphabet chars\n",
        "regex = re.compile('[^a-zA-Z]')\n",
        "\n",
        "#load in words\n",
        "for line in open('/content/moby_dick.txt'):\n",
        "    line = line.rstrip()    # stripping out any white spaces\n",
        "    # there aare blank lines in the file\n",
        "    if line:\n",
        "        line = regex.sub(' ',line) # replace all non-alpha characters with space\n",
        "\n",
        "        # split the tokens in the line and lowercase\n",
        "        tokens = line.lower().split()\n",
        "#         print(tokens)\n",
        "#         tokens = nltk.word_tokenize(tokens)\n",
        "\n",
        "        # word --> token\n",
        "        for token in tokens:\n",
        "            # update the model\n",
        "            # first letter\n",
        "            ch0 = token[0]\n",
        "            update_pi(ch0)\n",
        "\n",
        "            # other letters\n",
        "            for ch1 in token[1:]:\n",
        "                update_transition(ch0,ch1)\n",
        "                ch0 = ch1\n",
        "\n",
        "# normalize the probabilities\n",
        "pi /= pi.sum()\n",
        "M /= M.sum(axis=1,keepdims=True)    # dividing each row by its row sum"
      ]
    },
    {
      "cell_type": "code",
      "execution_count": null,
      "id": "c3785644",
      "metadata": {
        "id": "c3785644"
      },
      "outputs": [],
      "source": [
        "original_message = '''a poor fisherman  who lived on the fish he caught  had bad luck one day and caught nothing but a very small fry  the fisherman was about to put it in his basket when the little fish said    please spare me  mr  fisherman  i am so small it is not worth while to carry me home  when i am bigger  i shall make you a much better meal    but the fisherman quickly put the fish into his basket    how foolish i should be   he said   to throw you back  however small you may be  you are better than nothing at all'''\n",
        "\n",
        "# original_message = 'bqqmf jt sfe'"
      ]
    },
    {
      "cell_type": "code",
      "execution_count": null,
      "id": "c320d2d3",
      "metadata": {
        "id": "c320d2d3"
      },
      "outputs": [],
      "source": [
        "# a function to encode a message\n",
        "def encode_message(msg):\n",
        "    #downcase\n",
        "    msg = msg.lower()\n",
        "\n",
        "    # replace non-alpha characters\n",
        "    msg = regex.sub(' ',msg)\n",
        "\n",
        "    # make the encoded message\n",
        "    coded_msg = []\n",
        "    for ch in msg:\n",
        "        coded_ch = ch\n",
        "        if ch in true_mapping:\n",
        "            coded_ch = true_mapping[ch]\n",
        "        coded_msg.append(coded_ch)\n",
        "    return ''.join(coded_msg)\n",
        "\n",
        "# a function to decode a message\n",
        "def decode_message(msg, word_map):\n",
        "    decoded_msg = []\n",
        "    for ch in msg:\n",
        "        decoded_ch = ch\n",
        "        if ch in word_map:\n",
        "            decoded_ch = word_map[ch]\n",
        "        decoded_msg.append(decoded_ch)\n",
        "    return ''.join(decoded_msg)"
      ]
    },
    {
      "cell_type": "code",
      "source": [
        "# Get the encoded message\n",
        "encoded_message = encode_message(original_message)"
      ],
      "metadata": {
        "id": "0FufRWSpnHba"
      },
      "id": "0FufRWSpnHba",
      "execution_count": null,
      "outputs": []
    },
    {
      "cell_type": "code",
      "source": [
        "print(encoded_message)"
      ],
      "metadata": {
        "colab": {
          "base_uri": "https://localhost:8080/"
        },
        "id": "To1WeqIMnNFt",
        "outputId": "34077f47-1f9b-4560-c900-2b1679f38c66"
      },
      "id": "To1WeqIMnNFt",
      "execution_count": null,
      "outputs": [
        {
          "output_type": "stream",
          "name": "stdout",
          "text": [
            "q dool inhyeltqa  wyo fnseg oa xye inhy ye mqcvyx  yqg kqg fcmz oae gqu qag mqcvyx aoxynav kcx q selu htqff ilu  xye inhyeltqa wqh qkocx xo dcx nx na ynh kqhzex wyea xye fnxxfe inhy hqng    dfeqhe hdqle te  tl  inhyeltqa  n qt ho htqff nx nh aox wolxy wynfe xo mqllu te yote  wyea n qt knvvel  n hyqff tqze uoc q tcmy kexxel teqf    kcx xye inhyeltqa jcnmzfu dcx xye inhy naxo ynh kqhzex    yow ioofnhy n hyocfg ke   ye hqng   xo xylow uoc kqmz  yowesel htqff uoc tqu ke  uoc qle kexxel xyqa aoxynav qx qff\n"
          ]
        }
      ]
    },
    {
      "cell_type": "code",
      "execution_count": null,
      "id": "85a6bb76",
      "metadata": {
        "id": "85a6bb76"
      },
      "outputs": [],
      "source": [
        "# run an evolutionary algorithm to decode the message\n",
        "\n",
        "# initialization point\n",
        "dna_pool = []\n",
        "for _ in range(30):\n",
        "    dna = list(string.ascii_lowercase)\n",
        "    random.shuffle(dna)\n",
        "    dna_pool.append(dna)"
      ]
    },
    {
      "cell_type": "code",
      "execution_count": null,
      "id": "f0b95d76",
      "metadata": {
        "id": "f0b95d76"
      },
      "outputs": [],
      "source": [
        "def evolve_offspring(dna_pool, n_children):\n",
        "    # make n_children per offspring\n",
        "    offspring = []\n",
        "    for dna in dna_pool:\n",
        "        for _ in range(n_children):\n",
        "            copy = dna.copy()\n",
        "            j = np.random.randint(len(copy))\n",
        "            k = np.random.randint(len(copy))\n",
        "\n",
        "            # switch\n",
        "            tmp = copy[j]\n",
        "            copy[j] = copy[k]\n",
        "            copy[k] = tmp\n",
        "            offspring.append(copy)\n",
        "    return offspring + dna_pool"
      ]
    },
    {
      "cell_type": "code",
      "execution_count": null,
      "id": "530103e9",
      "metadata": {
        "id": "530103e9",
        "colab": {
          "base_uri": "https://localhost:8080/"
        },
        "outputId": "78683f11-ae4c-4746-9f4a-1fafa74a7813"
      },
      "outputs": [
        {
          "output_type": "stream",
          "name": "stdout",
          "text": [
            "iter: 0 score: -2005.9258961848166 best so far: -1705.759573848804\n",
            "iter: 200 score: -1091.7136798602803 best so far: -994.2528545404044\n",
            "iter: 400 score: -1081.9036428430552 best so far: -992.9994607645239\n",
            "iter: 600 score: -1121.475890629851 best so far: -992.9994607645239\n",
            "iter: 800 score: -1091.973729217785 best so far: -992.9994607645239\n"
          ]
        }
      ],
      "source": [
        "num_iters = 1000\n",
        "scores = np.zeros(num_iters)\n",
        "best_dna = None\n",
        "best_map = None\n",
        "best_score = float('-inf')\n",
        "for i in range(num_iters):\n",
        "    if i>0:\n",
        "        # get offspring from the current dna pool\n",
        "        dna_pool = evolve_offspring(dna_pool,5)\n",
        "\n",
        "    # calculate score for each dna\n",
        "    dna2score ={}\n",
        "    for dna in dna_pool:\n",
        "        current_map = {}\n",
        "        for k, v in zip(letters1,dna):\n",
        "            current_map[k] = v\n",
        "\n",
        "        decoded_message = decode_message(encoded_message, current_map)\n",
        "        score = get_sequence_prob(decoded_message)  # Log likelihood of the decoded message\n",
        "\n",
        "        #store it\n",
        "        # needs to be a strin to be a dict key\n",
        "        dna2score[''.join(dna)] = score\n",
        "\n",
        "        # record te best so far\n",
        "        if score > best_score:\n",
        "            best_dna = dna\n",
        "            best_map = current_map\n",
        "            best_score = score\n",
        "        # avg score\n",
        "    scores[i] = np.mean(list(dna2score.values()))\n",
        "        # keep 5 best dna\n",
        "        # also turn them back into list of single chars\n",
        "    sorted_dna = sorted(dna2score.items(), key =lambda x:x[1],reverse = True)\n",
        "    dna_pool = [list(k) for k, v in sorted_dna[:5]]\n",
        "\n",
        "    if i% 200 == 0:\n",
        "        print('iter:',i,'score:',scores[i],'best so far:',best_score)"
      ]
    },
    {
      "cell_type": "code",
      "execution_count": null,
      "id": "415570a6",
      "metadata": {
        "id": "415570a6",
        "colab": {
          "base_uri": "https://localhost:8080/"
        },
        "outputId": "101b3fbf-792a-434e-c59f-09402164bc8c"
      },
      "outputs": [
        {
          "output_type": "stream",
          "name": "stdout",
          "text": [
            "LL of decoded message: -992.9994607645239\n",
            "LL of True message: -903.2860392780087\n",
            "1. true: b, pred: h\n",
            "2. true: c, pred: m\n",
            "3. true: d, pred: v\n",
            "4. true: f, pred: w\n",
            "5. true: h, pred: t\n",
            "6. true: j, pred: z\n",
            "7. true: k, pred: p\n",
            "8. true: m, pred: c\n",
            "9. true: n, pred: d\n",
            "10. true: p, pred: b\n",
            "11. true: s, pred: n\n",
            "12. true: t, pred: s\n",
            "13. true: v, pred: k\n",
            "14. true: w, pred: f\n",
            "15. true: z, pred: j\n"
          ]
        }
      ],
      "source": [
        "# use best score\n",
        "# print(best_map)\n",
        "# print(encoded_message)\n",
        "# decoded_message = decode_message(encoded_message, best_map)\n",
        "# print(decoded_message)\n",
        "# print(original_message)\n",
        "print('LL of decoded message:',get_sequence_prob(decoded_message))\n",
        "print('LL of True message:',get_sequence_prob(regex.sub(' ',original_message.lower())))\n",
        "\n",
        "# which letters are wrong\n",
        "cnt = 1\n",
        "for true, v in true_mapping.items():\n",
        "    pred = best_map[v]\n",
        "    if true != pred:\n",
        "        print(f'{cnt}. true: {true}, pred: {pred}')\n",
        "        cnt += 1"
      ]
    },
    {
      "cell_type": "code",
      "execution_count": null,
      "id": "9c9ed9a6",
      "metadata": {
        "id": "9c9ed9a6",
        "colab": {
          "base_uri": "https://localhost:8080/"
        },
        "outputId": "f7fe8f47-78d1-4d03-e7b0-f41502a3709a"
      },
      "outputs": [
        {
          "output_type": "stream",
          "name": "stdout",
          "text": [
            "Decoded message:\n",
            " a boor wintercam  fto likev om ste wint te daupts  tav hav ludg ome\n",
            "vay amv daupts mostimp hus a kery ncall wry  ste wintercam fan ahous\n",
            "so bus is im tin hanges ftem ste lissle wint naiv    bleane nbare ce\n",
            "cr  wintercam  i ac no ncall is in mos forst ftile so darry ce toce\n",
            "ftem i ac hipper  i ntall cage you a cudt hesser ceal    hus ste\n",
            "wintercam quidgly bus ste wint imso tin hanges    tof woolint i ntoulv\n",
            "he   te naiv   so strof you hadg  tofeker ncall you cay he  you are\n",
            "hesser stam mostimp as all\n",
            "\n",
            " True message:\n",
            " a poor fisherman  who lived on the fish he caught  had bad luck one\n",
            "day and caught nothing but a very small fry  the fisherman was about\n",
            "to put it in his basket when the little fish said    please spare me\n",
            "mr  fisherman  i am so small it is not worth while to carry me home\n",
            "when i am bigger  i shall make you a much better meal    but the\n",
            "fisherman quickly put the fish into his basket    how foolish i should\n",
            "be   he said   to throw you back  however small you may be  you are\n",
            "better than nothing at all\n",
            "\n",
            " Encoded Message:\n",
            " q dool inhyeltqa  wyo fnseg oa xye inhy ye mqcvyx  yqg kqg fcmz oae gqu qag mqcvyx aoxynav kcx q selu htqff ilu  xye inhyeltqa wqh qkocx xo dcx nx na ynh kqhzex wyea xye fnxxfe inhy hqng    dfeqhe hdqle te  tl  inhyeltqa  n qt ho htqff nx nh aox wolxy wynfe xo mqllu te yote  wyea n qt knvvel  n hyqff tqze uoc q tcmy kexxel teqf    kcx xye inhyeltqa jcnmzfu dcx xye inhy naxo ynh kqhzex    yow ioofnhy n hyocfg ke   ye hqng   xo xylow uoc kqmz  yowesel htqff uoc tqu ke  uoc qle kexxel xyqa aoxynav qx qff\n"
          ]
        }
      ],
      "source": [
        "generated_txt = textwrap.fill(decoded_message)\n",
        "# print the final decoded message\n",
        "print('Decoded message:\\n',textwrap.fill(decoded_message))\n",
        "\n",
        "print('\\n True message:\\n', textwrap.fill(original_message))\n",
        "\n",
        "print('\\n Encoded Message:\\n',encoded_message)"
      ]
    },
    {
      "cell_type": "code",
      "execution_count": null,
      "id": "f30ba2f5",
      "metadata": {
        "id": "f30ba2f5",
        "colab": {
          "base_uri": "https://localhost:8080/",
          "height": 430
        },
        "outputId": "79f45fa6-00a9-4820-89d2-c0b18b2d4e3a"
      },
      "outputs": [
        {
          "output_type": "display_data",
          "data": {
            "text/plain": [
              "<Figure size 640x480 with 1 Axes>"
            ],
            "image/png": "[encoded data removed]"
          },
          "metadata": {}
        }
      ],
      "source": [
        "plt.plot(scores)\n",
        "plt.show()"
      ]
    },
    {
      "cell_type": "code",
      "execution_count": null,
      "id": "5bf9332b",
      "metadata": {
        "id": "5bf9332b",
        "colab": {
          "base_uri": "https://localhost:8080/"
        },
        "outputId": "9515517e-dd01-4c0e-fb54-e963c8335a62"
      },
      "outputs": [
        {
          "output_type": "stream",
          "name": "stdout",
          "text": [
            "0.3739804506521141\n"
          ]
        }
      ],
      "source": [
        "from nltk.translate.bleu_score import sentence_bleu\n",
        "score = sentence_bleu([original_message], generated_txt)\n",
        "print(score)"
      ]
    }
  ],
  "metadata": {
    "kernelspec": {
      "display_name": "Python 3 (ipykernel)",
      "language": "python",
      "name": "python3"
    },
    "language_info": {
      "codemirror_mode": {
        "name": "ipython",
        "version": 3
      },
      "file_extension": ".py",
      "mimetype": "text/x-python",
      "name": "python",
      "nbconvert_exporter": "python",
      "pygments_lexer": "ipython3",
      "version": "3.8.13"
    },
    "colab": {
      "provenance": []
    }
  },
  "nbformat": 4,
  "nbformat_minor": 5
}